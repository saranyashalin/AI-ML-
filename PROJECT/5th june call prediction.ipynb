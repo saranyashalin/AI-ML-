{
 "cells": [
  {
   "cell_type": "markdown",
   "id": "8c88b096",
   "metadata": {},
   "source": [
    "## project name: \n",
    "## Predicting the Best Time to Call Customers Using Machine Learning"
   ]
  },
  {
   "cell_type": "code",
   "execution_count": 1,
   "id": "21f989d9",
   "metadata": {},
   "outputs": [],
   "source": [
    "from imblearn.over_sampling import SMOTE\n",
    "from sklearn.ensemble import RandomForestClassifier"
   ]
  },
  {
   "cell_type": "code",
   "execution_count": 2,
   "id": "36d11ca7",
   "metadata": {},
   "outputs": [],
   "source": [
    "# 📦 Imports\n",
    "import pandas as pd\n",
    "import numpy as np\n",
    "import seaborn as sns\n",
    "import matplotlib.pyplot as plt\n",
    "\n",
    "from sklearn.model_selection import train_test_split\n",
    "from sklearn.preprocessing import LabelEncoder\n",
    "from sklearn.ensemble import RandomForestClassifier\n",
    "from sklearn.metrics import classification_report, confusion_matrix, roc_auc_score\n",
    "from imblearn.over_sampling import SMOTE\n",
    "from scipy.stats import skew, zscore"
   ]
  },
  {
   "cell_type": "code",
   "execution_count": 3,
   "id": "a2d5e1cc",
   "metadata": {},
   "outputs": [],
   "source": [
    "# 🔹 Step 1: Load the data\n",
    "df = pd.read_csv(r\"D:\\DATA\\DOC\\6th june\\call_center_data.csv\")\n",
    "df['call_time'] = pd.to_datetime(df['call_time'])"
   ]
  },
  {
   "cell_type": "code",
   "execution_count": 4,
   "id": "eac71705",
   "metadata": {},
   "outputs": [
    {
     "name": "stdout",
     "output_type": "stream",
     "text": [
      "<class 'pandas.core.frame.DataFrame'>\n",
      "RangeIndex: 100000 entries, 0 to 99999\n",
      "Data columns (total 19 columns):\n",
      " #   Column                         Non-Null Count   Dtype         \n",
      "---  ------                         --------------   -----         \n",
      " 0   call_time                      100000 non-null  datetime64[ns]\n",
      " 1   hour                           100000 non-null  int64         \n",
      " 2   day_of_week                    100000 non-null  int64         \n",
      " 3   is_weekend                     100000 non-null  int64         \n",
      " 4   month                          100000 non-null  int64         \n",
      " 5   time_since_last_call           95054 non-null   float64       \n",
      " 6   customer_id                    100000 non-null  int64         \n",
      " 7   customer_age                   100000 non-null  int64         \n",
      " 8   occupation                     97043 non-null   object        \n",
      " 9   city                           100000 non-null  object        \n",
      " 10  gender                         98088 non-null   object        \n",
      " 11  loan_amount                    100000 non-null  float64       \n",
      " 12  days_overdue                   100000 non-null  int64         \n",
      " 13  loan_type                      100000 non-null  object        \n",
      " 14  payment_history                95949 non-null   float64       \n",
      " 15  last_call_outcome              99021 non-null   object        \n",
      " 16  num_prev_calls                 100000 non-null  int64         \n",
      " 17  time_since_last_answered_call  89752 non-null   float64       \n",
      " 18  call_answered                  100000 non-null  int64         \n",
      "dtypes: datetime64[ns](1), float64(4), int64(9), object(5)\n",
      "memory usage: 14.5+ MB\n"
     ]
    }
   ],
   "source": [
    "df.info()"
   ]
  },
  {
   "cell_type": "code",
   "execution_count": 5,
   "id": "bf5e2fde",
   "metadata": {},
   "outputs": [
    {
     "data": {
      "text/html": [
       "<div>\n",
       "<style scoped>\n",
       "    .dataframe tbody tr th:only-of-type {\n",
       "        vertical-align: middle;\n",
       "    }\n",
       "\n",
       "    .dataframe tbody tr th {\n",
       "        vertical-align: top;\n",
       "    }\n",
       "\n",
       "    .dataframe thead th {\n",
       "        text-align: right;\n",
       "    }\n",
       "</style>\n",
       "<table border=\"1\" class=\"dataframe\">\n",
       "  <thead>\n",
       "    <tr style=\"text-align: right;\">\n",
       "      <th></th>\n",
       "      <th>call_time</th>\n",
       "      <th>hour</th>\n",
       "      <th>day_of_week</th>\n",
       "      <th>is_weekend</th>\n",
       "      <th>month</th>\n",
       "      <th>time_since_last_call</th>\n",
       "      <th>customer_id</th>\n",
       "      <th>customer_age</th>\n",
       "      <th>occupation</th>\n",
       "      <th>city</th>\n",
       "      <th>gender</th>\n",
       "      <th>loan_amount</th>\n",
       "      <th>days_overdue</th>\n",
       "      <th>loan_type</th>\n",
       "      <th>payment_history</th>\n",
       "      <th>last_call_outcome</th>\n",
       "      <th>num_prev_calls</th>\n",
       "      <th>time_since_last_answered_call</th>\n",
       "      <th>call_answered</th>\n",
       "    </tr>\n",
       "  </thead>\n",
       "  <tbody>\n",
       "    <tr>\n",
       "      <th>0</th>\n",
       "      <td>2024-06-22 15:51:06.225508</td>\n",
       "      <td>15</td>\n",
       "      <td>5</td>\n",
       "      <td>1</td>\n",
       "      <td>6</td>\n",
       "      <td>25.59</td>\n",
       "      <td>58720258</td>\n",
       "      <td>33</td>\n",
       "      <td>Unemployed</td>\n",
       "      <td>Tier-2</td>\n",
       "      <td>Female</td>\n",
       "      <td>37819.58</td>\n",
       "      <td>15</td>\n",
       "      <td>MHF Loan</td>\n",
       "      <td>2.0</td>\n",
       "      <td>Answered</td>\n",
       "      <td>3</td>\n",
       "      <td>0.04</td>\n",
       "      <td>1</td>\n",
       "    </tr>\n",
       "    <tr>\n",
       "      <th>1</th>\n",
       "      <td>2024-02-29 23:54:03.170686</td>\n",
       "      <td>23</td>\n",
       "      <td>3</td>\n",
       "      <td>0</td>\n",
       "      <td>2</td>\n",
       "      <td>93.35</td>\n",
       "      <td>81002507</td>\n",
       "      <td>24</td>\n",
       "      <td>Self-Employed</td>\n",
       "      <td>Tier-2</td>\n",
       "      <td>Male</td>\n",
       "      <td>112075.94</td>\n",
       "      <td>13</td>\n",
       "      <td>MHF Loan</td>\n",
       "      <td>1.0</td>\n",
       "      <td>Not Answered</td>\n",
       "      <td>5</td>\n",
       "      <td>0.76</td>\n",
       "      <td>0</td>\n",
       "    </tr>\n",
       "    <tr>\n",
       "      <th>2</th>\n",
       "      <td>2024-08-31 20:50:53.546622</td>\n",
       "      <td>20</td>\n",
       "      <td>5</td>\n",
       "      <td>1</td>\n",
       "      <td>8</td>\n",
       "      <td>16.62</td>\n",
       "      <td>14417935</td>\n",
       "      <td>25</td>\n",
       "      <td>Homemaker</td>\n",
       "      <td>Tier-3</td>\n",
       "      <td>Male</td>\n",
       "      <td>32426.35</td>\n",
       "      <td>26</td>\n",
       "      <td>MHF Loan</td>\n",
       "      <td>2.0</td>\n",
       "      <td>Answered</td>\n",
       "      <td>4</td>\n",
       "      <td>NaN</td>\n",
       "      <td>1</td>\n",
       "    </tr>\n",
       "    <tr>\n",
       "      <th>3</th>\n",
       "      <td>2024-04-23 10:38:59.025369</td>\n",
       "      <td>10</td>\n",
       "      <td>1</td>\n",
       "      <td>0</td>\n",
       "      <td>4</td>\n",
       "      <td>56.37</td>\n",
       "      <td>20185105</td>\n",
       "      <td>49</td>\n",
       "      <td>Retired</td>\n",
       "      <td>Tier-2</td>\n",
       "      <td>Female</td>\n",
       "      <td>36151.33</td>\n",
       "      <td>1</td>\n",
       "      <td>MHF Loan</td>\n",
       "      <td>2.0</td>\n",
       "      <td>Answered</td>\n",
       "      <td>4</td>\n",
       "      <td>0.03</td>\n",
       "      <td>1</td>\n",
       "    </tr>\n",
       "    <tr>\n",
       "      <th>4</th>\n",
       "      <td>2024-08-31 20:40:52.133514</td>\n",
       "      <td>20</td>\n",
       "      <td>5</td>\n",
       "      <td>1</td>\n",
       "      <td>8</td>\n",
       "      <td>119.56</td>\n",
       "      <td>93061138</td>\n",
       "      <td>33</td>\n",
       "      <td>Homemaker</td>\n",
       "      <td>Tier-3</td>\n",
       "      <td>Female</td>\n",
       "      <td>32704.88</td>\n",
       "      <td>10</td>\n",
       "      <td>MHF Loan</td>\n",
       "      <td>1.0</td>\n",
       "      <td>Answered</td>\n",
       "      <td>2</td>\n",
       "      <td>0.01</td>\n",
       "      <td>1</td>\n",
       "    </tr>\n",
       "  </tbody>\n",
       "</table>\n",
       "</div>"
      ],
      "text/plain": [
       "                   call_time  hour  day_of_week  is_weekend  month  \\\n",
       "0 2024-06-22 15:51:06.225508    15            5           1      6   \n",
       "1 2024-02-29 23:54:03.170686    23            3           0      2   \n",
       "2 2024-08-31 20:50:53.546622    20            5           1      8   \n",
       "3 2024-04-23 10:38:59.025369    10            1           0      4   \n",
       "4 2024-08-31 20:40:52.133514    20            5           1      8   \n",
       "\n",
       "   time_since_last_call  customer_id  customer_age     occupation    city  \\\n",
       "0                 25.59     58720258            33     Unemployed  Tier-2   \n",
       "1                 93.35     81002507            24  Self-Employed  Tier-2   \n",
       "2                 16.62     14417935            25      Homemaker  Tier-3   \n",
       "3                 56.37     20185105            49        Retired  Tier-2   \n",
       "4                119.56     93061138            33      Homemaker  Tier-3   \n",
       "\n",
       "   gender  loan_amount  days_overdue loan_type  payment_history  \\\n",
       "0  Female     37819.58            15  MHF Loan              2.0   \n",
       "1    Male    112075.94            13  MHF Loan              1.0   \n",
       "2    Male     32426.35            26  MHF Loan              2.0   \n",
       "3  Female     36151.33             1  MHF Loan              2.0   \n",
       "4  Female     32704.88            10  MHF Loan              1.0   \n",
       "\n",
       "  last_call_outcome  num_prev_calls  time_since_last_answered_call  \\\n",
       "0          Answered               3                           0.04   \n",
       "1      Not Answered               5                           0.76   \n",
       "2          Answered               4                            NaN   \n",
       "3          Answered               4                           0.03   \n",
       "4          Answered               2                           0.01   \n",
       "\n",
       "   call_answered  \n",
       "0              1  \n",
       "1              0  \n",
       "2              1  \n",
       "3              1  \n",
       "4              1  "
      ]
     },
     "execution_count": 5,
     "metadata": {},
     "output_type": "execute_result"
    }
   ],
   "source": [
    "df.head()"
   ]
  },
  {
   "cell_type": "code",
   "execution_count": 6,
   "id": "539c4210",
   "metadata": {},
   "outputs": [
    {
     "data": {
      "text/plain": [
       "call_time                            0\n",
       "hour                                 0\n",
       "day_of_week                          0\n",
       "is_weekend                           0\n",
       "month                                0\n",
       "time_since_last_call              4946\n",
       "customer_id                          0\n",
       "customer_age                         0\n",
       "occupation                        2957\n",
       "city                                 0\n",
       "gender                            1912\n",
       "loan_amount                          0\n",
       "days_overdue                         0\n",
       "loan_type                            0\n",
       "payment_history                   4051\n",
       "last_call_outcome                  979\n",
       "num_prev_calls                       0\n",
       "time_since_last_answered_call    10248\n",
       "call_answered                        0\n",
       "dtype: int64"
      ]
     },
     "execution_count": 6,
     "metadata": {},
     "output_type": "execute_result"
    }
   ],
   "source": [
    "df.isna().sum()"
   ]
  },
  {
   "cell_type": "markdown",
   "id": "c5f20e7d",
   "metadata": {},
   "source": [
    "## preprocessing step"
   ]
  },
  {
   "cell_type": "code",
   "execution_count": 7,
   "id": "da0fe4cb",
   "metadata": {},
   "outputs": [],
   "source": [
    "# 🔹 Step 2: Fill missing values based on skewness\n",
    "def fill_missing_numerical(col):\n",
    "    if skew(df[col].dropna()) > 1:\n",
    "        return df[col].fillna(df[col].median())\n",
    "    else:\n",
    "        return df[col].fillna(df[col].mean())\n",
    "\n",
    "num_cols = ['time_since_last_call', 'payment_history', 'time_since_last_answered_call']\n",
    "for col in num_cols:\n",
    "    df[col] = fill_missing_numerical(col)\n",
    "\n",
    "cat_cols = ['occupation', 'gender', 'last_call_outcome']\n",
    "for col in cat_cols:\n",
    "    df[col] = df[col].fillna(df[col].mode()[0])"
   ]
  },
  {
   "cell_type": "code",
   "execution_count": 8,
   "id": "160b44a3",
   "metadata": {},
   "outputs": [],
   "source": [
    "# 🔹 Step 3: Encode categorical features (exclude last_call_outcome for now to avoid leakage)\n",
    "le_dict = {}\n",
    "for col in ['occupation', 'city', 'gender']:\n",
    "    le = LabelEncoder()\n",
    "    df[col] = le.fit_transform(df[col])\n",
    "    le_dict[col] = le"
   ]
  },
  {
   "cell_type": "code",
   "execution_count": 9,
   "id": "4946b1ac",
   "metadata": {},
   "outputs": [
    {
     "data": {
      "text/plain": [
       "call_time                        0\n",
       "hour                             0\n",
       "day_of_week                      0\n",
       "is_weekend                       0\n",
       "month                            0\n",
       "time_since_last_call             0\n",
       "customer_id                      0\n",
       "customer_age                     0\n",
       "occupation                       0\n",
       "city                             0\n",
       "gender                           0\n",
       "loan_amount                      0\n",
       "days_overdue                     0\n",
       "loan_type                        0\n",
       "payment_history                  0\n",
       "last_call_outcome                0\n",
       "num_prev_calls                   0\n",
       "time_since_last_answered_call    0\n",
       "call_answered                    0\n",
       "dtype: int64"
      ]
     },
     "execution_count": 9,
     "metadata": {},
     "output_type": "execute_result"
    }
   ],
   "source": [
    "df.isna().sum()"
   ]
  },
  {
   "cell_type": "markdown",
   "id": "23067f39",
   "metadata": {},
   "source": [
    "## correlation analysis"
   ]
  },
  {
   "cell_type": "code",
   "execution_count": 10,
   "id": "25c2578d",
   "metadata": {},
   "outputs": [],
   "source": [
    "from sklearn.preprocessing import LabelEncoder\n",
    "from sklearn.feature_selection import mutual_info_classif\n",
    "from scipy.stats import pointbiserialr\n"
   ]
  },
  {
   "cell_type": "code",
   "execution_count": 11,
   "id": "7a12d0ac",
   "metadata": {},
   "outputs": [],
   "source": [
    "# Numeric columns (exclude target)\n",
    "num_cols = df.select_dtypes(include=['int64', 'float64']).columns.tolist()\n",
    "num_cols.remove('call_answered')"
   ]
  },
  {
   "cell_type": "code",
   "execution_count": 12,
   "id": "688c12ea",
   "metadata": {},
   "outputs": [],
   "source": [
    "# Categorical columns\n",
    "cat_cols = ['occupation', 'last_call_outcome', 'city', 'gender']"
   ]
  },
  {
   "cell_type": "code",
   "execution_count": 13,
   "id": "b9f9ad73",
   "metadata": {},
   "outputs": [
    {
     "name": "stdout",
     "output_type": "stream",
     "text": [
      "Point-biserial correlations (numeric features vs call_answered):\n",
      "hour: corr=0.087, p-value=3.981e-166\n",
      "day_of_week: corr=0.314, p-value=0.000e+00\n",
      "is_weekend: corr=0.355, p-value=0.000e+00\n",
      "month: corr=-0.001, p-value=8.178e-01\n",
      "time_since_last_call: corr=-0.003, p-value=3.890e-01\n",
      "customer_id: corr=-0.003, p-value=3.987e-01\n",
      "customer_age: corr=0.223, p-value=0.000e+00\n",
      "occupation: corr=-0.075, p-value=2.121e-125\n",
      "city: corr=0.146, p-value=0.000e+00\n",
      "gender: corr=-0.003, p-value=3.789e-01\n",
      "loan_amount: corr=0.000, p-value=9.687e-01\n",
      "days_overdue: corr=-0.136, p-value=0.000e+00\n",
      "payment_history: corr=-0.022, p-value=2.850e-12\n",
      "num_prev_calls: corr=-0.127, p-value=0.000e+00\n",
      "time_since_last_answered_call: corr=-0.580, p-value=0.000e+00\n"
     ]
    }
   ],
   "source": [
    "# Point-biserial correlation for numeric features\n",
    "print(\"Point-biserial correlations (numeric features vs call_answered):\")\n",
    "for col in num_cols:\n",
    "    corr, pval = pointbiserialr(df[col], df['call_answered'])\n",
    "    print(f\"{col}: corr={corr:.3f}, p-value={pval:.3e}\")"
   ]
  },
  {
   "cell_type": "code",
   "execution_count": 14,
   "id": "ed49f49a",
   "metadata": {},
   "outputs": [],
   "source": [
    "# Encode categorical columns\n",
    "df_encoded = df.copy()\n",
    "for col in cat_cols:\n",
    "    df_encoded[col] = LabelEncoder().fit_transform(df_encoded[col].astype(str))"
   ]
  },
  {
   "cell_type": "code",
   "execution_count": 15,
   "id": "4f13c80e",
   "metadata": {},
   "outputs": [
    {
     "name": "stdout",
     "output_type": "stream",
     "text": [
      "\n",
      "Mutual Information (categorical features vs call_answered):\n",
      "occupation: MI=0.047\n",
      "last_call_outcome: MI=0.642\n",
      "city: MI=0.011\n",
      "gender: MI=0.000\n"
     ]
    }
   ],
   "source": [
    "# Mutual information for categorical features\n",
    "print(\"\\nMutual Information (categorical features vs call_answered):\")\n",
    "mi_scores = mutual_info_classif(df_encoded[cat_cols], df_encoded['call_answered'], discrete_features=True)\n",
    "for col, mi in zip(cat_cols, mi_scores):\n",
    "    print(f\"{col}: MI={mi:.3f}\")"
   ]
  },
  {
   "cell_type": "code",
   "execution_count": 16,
   "id": "8c8eb885",
   "metadata": {},
   "outputs": [
    {
     "data": {
      "image/png": "[encoded data removed]",
      "text/plain": [
       "<Figure size 1200x800 with 2 Axes>"
      ]
     },
     "metadata": {},
     "output_type": "display_data"
    }
   ],
   "source": [
    "# Plot correlation heatmap (optional)\n",
    "plt.figure(figsize=(12,8))\n",
    "sns.heatmap(df[num_cols].corr(), annot=True, fmt=\".2f\", cmap='coolwarm')\n",
    "plt.title('Correlation Matrix')\n",
    "plt.show()"
   ]
  },
  {
   "cell_type": "markdown",
   "id": "c6a8b464",
   "metadata": {},
   "source": [
    "## data imbalance check"
   ]
  },
  {
   "cell_type": "code",
   "execution_count": 17,
   "id": "6062a4a3",
   "metadata": {},
   "outputs": [
    {
     "data": {
      "image/png": "[encoded data removed]",
      "text/plain": [
       "<Figure size 640x480 with 1 Axes>"
      ]
     },
     "metadata": {},
     "output_type": "display_data"
    },
    {
     "name": "stdout",
     "output_type": "stream",
     "text": [
      "Class 0 count: 38185, Class 1 count: 61815, Imbalance Ratio: 0.62\n"
     ]
    }
   ],
   "source": [
    "# 🔹 Step 5: Check class imbalance visually and ratio\n",
    "sns.countplot(data=df, x='call_answered')\n",
    "plt.title(\"Target Class Distribution\")\n",
    "plt.show()\n",
    "\n",
    "count_0 = (df['call_answered'] == 0).sum()\n",
    "count_1 = (df['call_answered'] == 1).sum()\n",
    "imbalance_ratio = count_0 / count_1\n",
    "print(f\"Class 0 count: {count_0}, Class 1 count: {count_1}, Imbalance Ratio: {imbalance_ratio:.2f}\")\n"
   ]
  },
  {
   "cell_type": "code",
   "execution_count": 18,
   "id": "8deeab27",
   "metadata": {},
   "outputs": [],
   "source": [
    "features = [\n",
    "    'hour',\n",
    "    'day_of_week',\n",
    "    'is_weekend',\n",
    "    'days_overdue',\n",
    "    'num_prev_calls',\n",
    "    'occupation',\n",
    "    'customer_age'\n",
    "]\n",
    "\n",
    "X = df[features]\n",
    "y = df['call_answered']\n"
   ]
  },
  {
   "cell_type": "markdown",
   "id": "9a9d9345",
   "metadata": {},
   "source": [
    "## Train test splitt"
   ]
  },
  {
   "cell_type": "code",
   "execution_count": 19,
   "id": "51dfa345",
   "metadata": {},
   "outputs": [],
   "source": [
    "# 🔹 Step 7: Train-test split BEFORE SMOTE and outlier removal\n",
    "X_train, X_test, y_train, y_test = train_test_split(X, y, test_size=0.2, random_state=42, stratify=y)\n"
   ]
  },
  {
   "cell_type": "code",
   "execution_count": 20,
   "id": "a57492f1",
   "metadata": {},
   "outputs": [],
   "source": [
    "# 🔹 Step 8: Apply SMOTE ONLY if imbalance ratio is significant (>1.5)\n",
    "if imbalance_ratio > 1.5:\n",
    "    smote = SMOTE(random_state=42)\n",
    "    X_train, y_train = smote.fit_resample(X_train, y_train)\n",
    "    print(f\"After SMOTE - Training class distribution:\\n{pd.Series(y_train).value_counts()}\")\n"
   ]
  },
  {
   "cell_type": "markdown",
   "id": "637f7f05",
   "metadata": {},
   "source": [
    "## outlier detection and removal"
   ]
  },
  {
   "cell_type": "code",
   "execution_count": 21,
   "id": "f9059067",
   "metadata": {},
   "outputs": [
    {
     "name": "stdout",
     "output_type": "stream",
     "text": [
      "Training data shape after outlier removal: (78375, 7)\n"
     ]
    }
   ],
   "source": [
    "# 🔹 Step 9: Outlier detection & removal on training data only\n",
    "num_features_for_outliers = ['days_overdue', 'customer_age']    \n",
    "\n",
    "# Reset index to avoid issues after filtering\n",
    "X_train = X_train.reset_index(drop=True)\n",
    "y_train = y_train.reset_index(drop=True)\n",
    "\n",
    "# Compute Z-scores and apply mask\n",
    "z_scores = np.abs(zscore(X_train[num_features_for_outliers]))\n",
    "mask = (z_scores < 3).all(axis=1)\n",
    "\n",
    "X_train = X_train[mask]\n",
    "y_train = y_train[mask]\n",
    "\n",
    "print(f\"Training data shape after outlier removal: {X_train.shape}\")\n"
   ]
  },
  {
   "cell_type": "markdown",
   "id": "fda7ca9a",
   "metadata": {},
   "source": [
    "## model building"
   ]
  },
  {
   "cell_type": "code",
   "execution_count": 22,
   "id": "2f6b2b32",
   "metadata": {},
   "outputs": [
    {
     "data": {
      "text/html": [
       "<style>#sk-container-id-1 {\n",
       "  /* Definition of color scheme common for light and dark mode */\n",
       "  --sklearn-color-text: black;\n",
       "  --sklearn-color-line: gray;\n",
       "  /* Definition of color scheme for unfitted estimators */\n",
       "  --sklearn-color-unfitted-level-0: #fff5e6;\n",
       "  --sklearn-color-unfitted-level-1: #f6e4d2;\n",
       "  --sklearn-color-unfitted-level-2: #ffe0b3;\n",
       "  --sklearn-color-unfitted-level-3: chocolate;\n",
       "  /* Definition of color scheme for fitted estimators */\n",
       "  --sklearn-color-fitted-level-0: #f0f8ff;\n",
       "  --sklearn-color-fitted-level-1: #d4ebff;\n",
       "  --sklearn-color-fitted-level-2: #b3dbfd;\n",
       "  --sklearn-color-fitted-level-3: cornflowerblue;\n",
       "\n",
       "  /* Specific color for light theme */\n",
       "  --sklearn-color-text-on-default-background: var(--sg-text-color, var(--theme-code-foreground, var(--jp-content-font-color1, black)));\n",
       "  --sklearn-color-background: var(--sg-background-color, var(--theme-background, var(--jp-layout-color0, white)));\n",
       "  --sklearn-color-border-box: var(--sg-text-color, var(--theme-code-foreground, var(--jp-content-font-color1, black)));\n",
       "  --sklearn-color-icon: #696969;\n",
       "\n",
       "  @media (prefers-color-scheme: dark) {\n",
       "    /* Redefinition of color scheme for dark theme */\n",
       "    --sklearn-color-text-on-default-background: var(--sg-text-color, var(--theme-code-foreground, var(--jp-content-font-color1, white)));\n",
       "    --sklearn-color-background: var(--sg-background-color, var(--theme-background, var(--jp-layout-color0, #111)));\n",
       "    --sklearn-color-border-box: var(--sg-text-color, var(--theme-code-foreground, var(--jp-content-font-color1, white)));\n",
       "    --sklearn-color-icon: #878787;\n",
       "  }\n",
       "}\n",
       "\n",
       "#sk-container-id-1 {\n",
       "  color: var(--sklearn-color-text);\n",
       "}\n",
       "\n",
       "#sk-container-id-1 pre {\n",
       "  padding: 0;\n",
       "}\n",
       "\n",
       "#sk-container-id-1 input.sk-hidden--visually {\n",
       "  border: 0;\n",
       "  clip: rect(1px 1px 1px 1px);\n",
       "  clip: rect(1px, 1px, 1px, 1px);\n",
       "  height: 1px;\n",
       "  margin: -1px;\n",
       "  overflow: hidden;\n",
       "  padding: 0;\n",
       "  position: absolute;\n",
       "  width: 1px;\n",
       "}\n",
       "\n",
       "#sk-container-id-1 div.sk-dashed-wrapped {\n",
       "  border: 1px dashed var(--sklearn-color-line);\n",
       "  margin: 0 0.4em 0.5em 0.4em;\n",
       "  box-sizing: border-box;\n",
       "  padding-bottom: 0.4em;\n",
       "  background-color: var(--sklearn-color-background);\n",
       "}\n",
       "\n",
       "#sk-container-id-1 div.sk-container {\n",
       "  /* jupyter's `normalize.less` sets `[hidden] { display: none; }`\n",
       "     but bootstrap.min.css set `[hidden] { display: none !important; }`\n",
       "     so we also need the `!important` here to be able to override the\n",
       "     default hidden behavior on the sphinx rendered scikit-learn.org.\n",
       "     See: https://github.com/scikit-learn/scikit-learn/issues/21755 */\n",
       "  display: inline-block !important;\n",
       "  position: relative;\n",
       "}\n",
       "\n",
       "#sk-container-id-1 div.sk-text-repr-fallback {\n",
       "  display: none;\n",
       "}\n",
       "\n",
       "div.sk-parallel-item,\n",
       "div.sk-serial,\n",
       "div.sk-item {\n",
       "  /* draw centered vertical line to link estimators */\n",
       "  background-image: linear-gradient(var(--sklearn-color-text-on-default-background), var(--sklearn-color-text-on-default-background));\n",
       "  background-size: 2px 100%;\n",
       "  background-repeat: no-repeat;\n",
       "  background-position: center center;\n",
       "}\n",
       "\n",
       "/* Parallel-specific style estimator block */\n",
       "\n",
       "#sk-container-id-1 div.sk-parallel-item::after {\n",
       "  content: \"\";\n",
       "  width: 100%;\n",
       "  border-bottom: 2px solid var(--sklearn-color-text-on-default-background);\n",
       "  flex-grow: 1;\n",
       "}\n",
       "\n",
       "#sk-container-id-1 div.sk-parallel {\n",
       "  display: flex;\n",
       "  align-items: stretch;\n",
       "  justify-content: center;\n",
       "  background-color: var(--sklearn-color-background);\n",
       "  position: relative;\n",
       "}\n",
       "\n",
       "#sk-container-id-1 div.sk-parallel-item {\n",
       "  display: flex;\n",
       "  flex-direction: column;\n",
       "}\n",
       "\n",
       "#sk-container-id-1 div.sk-parallel-item:first-child::after {\n",
       "  align-self: flex-end;\n",
       "  width: 50%;\n",
       "}\n",
       "\n",
       "#sk-container-id-1 div.sk-parallel-item:last-child::after {\n",
       "  align-self: flex-start;\n",
       "  width: 50%;\n",
       "}\n",
       "\n",
       "#sk-container-id-1 div.sk-parallel-item:only-child::after {\n",
       "  width: 0;\n",
       "}\n",
       "\n",
       "/* Serial-specific style estimator block */\n",
       "\n",
       "#sk-container-id-1 div.sk-serial {\n",
       "  display: flex;\n",
       "  flex-direction: column;\n",
       "  align-items: center;\n",
       "  background-color: var(--sklearn-color-background);\n",
       "  padding-right: 1em;\n",
       "  padding-left: 1em;\n",
       "}\n",
       "\n",
       "\n",
       "/* Toggleable style: style used for estimator/Pipeline/ColumnTransformer box that is\n",
       "clickable and can be expanded/collapsed.\n",
       "- Pipeline and ColumnTransformer use this feature and define the default style\n",
       "- Estimators will overwrite some part of the style using the `sk-estimator` class\n",
       "*/\n",
       "\n",
       "/* Pipeline and ColumnTransformer style (default) */\n",
       "\n",
       "#sk-container-id-1 div.sk-toggleable {\n",
       "  /* Default theme specific background. It is overwritten whether we have a\n",
       "  specific estimator or a Pipeline/ColumnTransformer */\n",
       "  background-color: var(--sklearn-color-background);\n",
       "}\n",
       "\n",
       "/* Toggleable label */\n",
       "#sk-container-id-1 label.sk-toggleable__label {\n",
       "  cursor: pointer;\n",
       "  display: block;\n",
       "  width: 100%;\n",
       "  margin-bottom: 0;\n",
       "  padding: 0.5em;\n",
       "  box-sizing: border-box;\n",
       "  text-align: center;\n",
       "}\n",
       "\n",
       "#sk-container-id-1 label.sk-toggleable__label-arrow:before {\n",
       "  /* Arrow on the left of the label */\n",
       "  content: \"▸\";\n",
       "  float: left;\n",
       "  margin-right: 0.25em;\n",
       "  color: var(--sklearn-color-icon);\n",
       "}\n",
       "\n",
       "#sk-container-id-1 label.sk-toggleable__label-arrow:hover:before {\n",
       "  color: var(--sklearn-color-text);\n",
       "}\n",
       "\n",
       "/* Toggleable content - dropdown */\n",
       "\n",
       "#sk-container-id-1 div.sk-toggleable__content {\n",
       "  max-height: 0;\n",
       "  max-width: 0;\n",
       "  overflow: hidden;\n",
       "  text-align: left;\n",
       "  /* unfitted */\n",
       "  background-color: var(--sklearn-color-unfitted-level-0);\n",
       "}\n",
       "\n",
       "#sk-container-id-1 div.sk-toggleable__content.fitted {\n",
       "  /* fitted */\n",
       "  background-color: var(--sklearn-color-fitted-level-0);\n",
       "}\n",
       "\n",
       "#sk-container-id-1 div.sk-toggleable__content pre {\n",
       "  margin: 0.2em;\n",
       "  border-radius: 0.25em;\n",
       "  color: var(--sklearn-color-text);\n",
       "  /* unfitted */\n",
       "  background-color: var(--sklearn-color-unfitted-level-0);\n",
       "}\n",
       "\n",
       "#sk-container-id-1 div.sk-toggleable__content.fitted pre {\n",
       "  /* unfitted */\n",
       "  background-color: var(--sklearn-color-fitted-level-0);\n",
       "}\n",
       "\n",
       "#sk-container-id-1 input.sk-toggleable__control:checked~div.sk-toggleable__content {\n",
       "  /* Expand drop-down */\n",
       "  max-height: 200px;\n",
       "  max-width: 100%;\n",
       "  overflow: auto;\n",
       "}\n",
       "\n",
       "#sk-container-id-1 input.sk-toggleable__control:checked~label.sk-toggleable__label-arrow:before {\n",
       "  content: \"▾\";\n",
       "}\n",
       "\n",
       "/* Pipeline/ColumnTransformer-specific style */\n",
       "\n",
       "#sk-container-id-1 div.sk-label input.sk-toggleable__control:checked~label.sk-toggleable__label {\n",
       "  color: var(--sklearn-color-text);\n",
       "  background-color: var(--sklearn-color-unfitted-level-2);\n",
       "}\n",
       "\n",
       "#sk-container-id-1 div.sk-label.fitted input.sk-toggleable__control:checked~label.sk-toggleable__label {\n",
       "  background-color: var(--sklearn-color-fitted-level-2);\n",
       "}\n",
       "\n",
       "/* Estimator-specific style */\n",
       "\n",
       "/* Colorize estimator box */\n",
       "#sk-container-id-1 div.sk-estimator input.sk-toggleable__control:checked~label.sk-toggleable__label {\n",
       "  /* unfitted */\n",
       "  background-color: var(--sklearn-color-unfitted-level-2);\n",
       "}\n",
       "\n",
       "#sk-container-id-1 div.sk-estimator.fitted input.sk-toggleable__control:checked~label.sk-toggleable__label {\n",
       "  /* fitted */\n",
       "  background-color: var(--sklearn-color-fitted-level-2);\n",
       "}\n",
       "\n",
       "#sk-container-id-1 div.sk-label label.sk-toggleable__label,\n",
       "#sk-container-id-1 div.sk-label label {\n",
       "  /* The background is the default theme color */\n",
       "  color: var(--sklearn-color-text-on-default-background);\n",
       "}\n",
       "\n",
       "/* On hover, darken the color of the background */\n",
       "#sk-container-id-1 div.sk-label:hover label.sk-toggleable__label {\n",
       "  color: var(--sklearn-color-text);\n",
       "  background-color: var(--sklearn-color-unfitted-level-2);\n",
       "}\n",
       "\n",
       "/* Label box, darken color on hover, fitted */\n",
       "#sk-container-id-1 div.sk-label.fitted:hover label.sk-toggleable__label.fitted {\n",
       "  color: var(--sklearn-color-text);\n",
       "  background-color: var(--sklearn-color-fitted-level-2);\n",
       "}\n",
       "\n",
       "/* Estimator label */\n",
       "\n",
       "#sk-container-id-1 div.sk-label label {\n",
       "  font-family: monospace;\n",
       "  font-weight: bold;\n",
       "  display: inline-block;\n",
       "  line-height: 1.2em;\n",
       "}\n",
       "\n",
       "#sk-container-id-1 div.sk-label-container {\n",
       "  text-align: center;\n",
       "}\n",
       "\n",
       "/* Estimator-specific */\n",
       "#sk-container-id-1 div.sk-estimator {\n",
       "  font-family: monospace;\n",
       "  border: 1px dotted var(--sklearn-color-border-box);\n",
       "  border-radius: 0.25em;\n",
       "  box-sizing: border-box;\n",
       "  margin-bottom: 0.5em;\n",
       "  /* unfitted */\n",
       "  background-color: var(--sklearn-color-unfitted-level-0);\n",
       "}\n",
       "\n",
       "#sk-container-id-1 div.sk-estimator.fitted {\n",
       "  /* fitted */\n",
       "  background-color: var(--sklearn-color-fitted-level-0);\n",
       "}\n",
       "\n",
       "/* on hover */\n",
       "#sk-container-id-1 div.sk-estimator:hover {\n",
       "  /* unfitted */\n",
       "  background-color: var(--sklearn-color-unfitted-level-2);\n",
       "}\n",
       "\n",
       "#sk-container-id-1 div.sk-estimator.fitted:hover {\n",
       "  /* fitted */\n",
       "  background-color: var(--sklearn-color-fitted-level-2);\n",
       "}\n",
       "\n",
       "/* Specification for estimator info (e.g. \"i\" and \"?\") */\n",
       "\n",
       "/* Common style for \"i\" and \"?\" */\n",
       "\n",
       ".sk-estimator-doc-link,\n",
       "a:link.sk-estimator-doc-link,\n",
       "a:visited.sk-estimator-doc-link {\n",
       "  float: right;\n",
       "  font-size: smaller;\n",
       "  line-height: 1em;\n",
       "  font-family: monospace;\n",
       "  background-color: var(--sklearn-color-background);\n",
       "  border-radius: 1em;\n",
       "  height: 1em;\n",
       "  width: 1em;\n",
       "  text-decoration: none !important;\n",
       "  margin-left: 1ex;\n",
       "  /* unfitted */\n",
       "  border: var(--sklearn-color-unfitted-level-1) 1pt solid;\n",
       "  color: var(--sklearn-color-unfitted-level-1);\n",
       "}\n",
       "\n",
       ".sk-estimator-doc-link.fitted,\n",
       "a:link.sk-estimator-doc-link.fitted,\n",
       "a:visited.sk-estimator-doc-link.fitted {\n",
       "  /* fitted */\n",
       "  border: var(--sklearn-color-fitted-level-1) 1pt solid;\n",
       "  color: var(--sklearn-color-fitted-level-1);\n",
       "}\n",
       "\n",
       "/* On hover */\n",
       "div.sk-estimator:hover .sk-estimator-doc-link:hover,\n",
       ".sk-estimator-doc-link:hover,\n",
       "div.sk-label-container:hover .sk-estimator-doc-link:hover,\n",
       ".sk-estimator-doc-link:hover {\n",
       "  /* unfitted */\n",
       "  background-color: var(--sklearn-color-unfitted-level-3);\n",
       "  color: var(--sklearn-color-background);\n",
       "  text-decoration: none;\n",
       "}\n",
       "\n",
       "div.sk-estimator.fitted:hover .sk-estimator-doc-link.fitted:hover,\n",
       ".sk-estimator-doc-link.fitted:hover,\n",
       "div.sk-label-container:hover .sk-estimator-doc-link.fitted:hover,\n",
       ".sk-estimator-doc-link.fitted:hover {\n",
       "  /* fitted */\n",
       "  background-color: var(--sklearn-color-fitted-level-3);\n",
       "  color: var(--sklearn-color-background);\n",
       "  text-decoration: none;\n",
       "}\n",
       "\n",
       "/* Span, style for the box shown on hovering the info icon */\n",
       ".sk-estimator-doc-link span {\n",
       "  display: none;\n",
       "  z-index: 9999;\n",
       "  position: relative;\n",
       "  font-weight: normal;\n",
       "  right: .2ex;\n",
       "  padding: .5ex;\n",
       "  margin: .5ex;\n",
       "  width: min-content;\n",
       "  min-width: 20ex;\n",
       "  max-width: 50ex;\n",
       "  color: var(--sklearn-color-text);\n",
       "  box-shadow: 2pt 2pt 4pt #999;\n",
       "  /* unfitted */\n",
       "  background: var(--sklearn-color-unfitted-level-0);\n",
       "  border: .5pt solid var(--sklearn-color-unfitted-level-3);\n",
       "}\n",
       "\n",
       ".sk-estimator-doc-link.fitted span {\n",
       "  /* fitted */\n",
       "  background: var(--sklearn-color-fitted-level-0);\n",
       "  border: var(--sklearn-color-fitted-level-3);\n",
       "}\n",
       "\n",
       ".sk-estimator-doc-link:hover span {\n",
       "  display: block;\n",
       "}\n",
       "\n",
       "/* \"?\"-specific style due to the `<a>` HTML tag */\n",
       "\n",
       "#sk-container-id-1 a.estimator_doc_link {\n",
       "  float: right;\n",
       "  font-size: 1rem;\n",
       "  line-height: 1em;\n",
       "  font-family: monospace;\n",
       "  background-color: var(--sklearn-color-background);\n",
       "  border-radius: 1rem;\n",
       "  height: 1rem;\n",
       "  width: 1rem;\n",
       "  text-decoration: none;\n",
       "  /* unfitted */\n",
       "  color: var(--sklearn-color-unfitted-level-1);\n",
       "  border: var(--sklearn-color-unfitted-level-1) 1pt solid;\n",
       "}\n",
       "\n",
       "#sk-container-id-1 a.estimator_doc_link.fitted {\n",
       "  /* fitted */\n",
       "  border: var(--sklearn-color-fitted-level-1) 1pt solid;\n",
       "  color: var(--sklearn-color-fitted-level-1);\n",
       "}\n",
       "\n",
       "/* On hover */\n",
       "#sk-container-id-1 a.estimator_doc_link:hover {\n",
       "  /* unfitted */\n",
       "  background-color: var(--sklearn-color-unfitted-level-3);\n",
       "  color: var(--sklearn-color-background);\n",
       "  text-decoration: none;\n",
       "}\n",
       "\n",
       "#sk-container-id-1 a.estimator_doc_link.fitted:hover {\n",
       "  /* fitted */\n",
       "  background-color: var(--sklearn-color-fitted-level-3);\n",
       "}\n",
       "</style><div id=\"sk-container-id-1\" class=\"sk-top-container\"><div class=\"sk-text-repr-fallback\"><pre>RandomForestClassifier(max_depth=8, min_samples_leaf=10, n_estimators=200,\n",
       "                       random_state=42)</pre><b>In a Jupyter environment, please rerun this cell to show the HTML representation or trust the notebook. <br />On GitHub, the HTML representation is unable to render, please try loading this page with nbviewer.org.</b></div><div class=\"sk-container\" hidden><div class=\"sk-item\"><div class=\"sk-estimator fitted sk-toggleable\"><input class=\"sk-toggleable__control sk-hidden--visually\" id=\"sk-estimator-id-1\" type=\"checkbox\" checked><label for=\"sk-estimator-id-1\" class=\"sk-toggleable__label fitted sk-toggleable__label-arrow fitted\">&nbsp;&nbsp;RandomForestClassifier<a class=\"sk-estimator-doc-link fitted\" rel=\"noreferrer\" target=\"_blank\" href=\"https://scikit-learn.org/1.4/modules/generated/sklearn.ensemble.RandomForestClassifier.html\">?<span>Documentation for RandomForestClassifier</span></a><span class=\"sk-estimator-doc-link fitted\">i<span>Fitted</span></span></label><div class=\"sk-toggleable__content fitted\"><pre>RandomForestClassifier(max_depth=8, min_samples_leaf=10, n_estimators=200,\n",
       "                       random_state=42)</pre></div> </div></div></div></div>"
      ],
      "text/plain": [
       "RandomForestClassifier(max_depth=8, min_samples_leaf=10, n_estimators=200,\n",
       "                       random_state=42)"
      ]
     },
     "execution_count": 22,
     "metadata": {},
     "output_type": "execute_result"
    }
   ],
   "source": [
    "model = RandomForestClassifier(\n",
    "    n_estimators=200,\n",
    "    max_depth=8,\n",
    "    min_samples_leaf=10,\n",
    "    max_features='sqrt',\n",
    "    random_state=42\n",
    ")\n",
    "model.fit(X_train, y_train)"
   ]
  },
  {
   "cell_type": "markdown",
   "id": "274e3792",
   "metadata": {},
   "source": [
    "## model evaluation"
   ]
  },
  {
   "cell_type": "code",
   "execution_count": 23,
   "id": "6be2d6bd",
   "metadata": {},
   "outputs": [
    {
     "name": "stdout",
     "output_type": "stream",
     "text": [
      "\n",
      "📊 Classification Report:\n",
      "               precision    recall  f1-score   support\n",
      "\n",
      "           0       0.94      0.85      0.89      7637\n",
      "           1       0.91      0.97      0.94     12363\n",
      "\n",
      "    accuracy                           0.92     20000\n",
      "   macro avg       0.93      0.91      0.92     20000\n",
      "weighted avg       0.92      0.92      0.92     20000\n",
      "\n",
      "🎯 Confusion Matrix:\n",
      " [[ 6469  1168]\n",
      " [  379 11984]]\n",
      "🔵 ROC AUC Score: 0.9082021871853792\n",
      "✅ Accuracy Score: 0.92265\n"
     ]
    }
   ],
   "source": [
    "from sklearn.metrics import classification_report, confusion_matrix, roc_auc_score, accuracy_score\n",
    "\n",
    "# 🔹 Step 11: Model Evaluation\n",
    "y_pred = model.predict(X_test)\n",
    "\n",
    "# 📊 Metrics\n",
    "print(\"\\n📊 Classification Report:\\n\", classification_report(y_test, y_pred))\n",
    "print(\"🎯 Confusion Matrix:\\n\", confusion_matrix(y_test, y_pred))\n",
    "print(\"🔵 ROC AUC Score:\", roc_auc_score(y_test, y_pred))\n",
    "print(\"✅ Accuracy Score:\", accuracy_score(y_test, y_pred))\n"
   ]
  },
  {
   "cell_type": "code",
   "execution_count": 24,
   "id": "4df7d1c3",
   "metadata": {},
   "outputs": [
    {
     "data": {
      "image/png": "[encoded data removed]",
      "text/plain": [
       "<Figure size 600x500 with 2 Axes>"
      ]
     },
     "metadata": {},
     "output_type": "display_data"
    },
    {
     "data": {
      "image/png": "[encoded data removed]",
      "text/plain": [
       "<Figure size 600x500 with 1 Axes>"
      ]
     },
     "metadata": {},
     "output_type": "display_data"
    }
   ],
   "source": [
    "import matplotlib.pyplot as plt\n",
    "import seaborn as sns\n",
    "from sklearn.metrics import roc_curve, auc\n",
    "\n",
    "# Confusion Matrix Plot\n",
    "cm = confusion_matrix(y_test, y_pred)\n",
    "plt.figure(figsize=(6,5))\n",
    "sns.heatmap(cm, annot=True, fmt='d', cmap='Blues')\n",
    "plt.title(\"Confusion Matrix\")\n",
    "plt.xlabel(\"Predicted\")\n",
    "plt.ylabel(\"Actual\")\n",
    "plt.show()\n",
    "\n",
    "# ROC Curve Plot\n",
    "y_pred_proba = model.predict_proba(X_test)[:, 1]  # Probabilities for class 1\n",
    "fpr, tpr, thresholds = roc_curve(y_test, y_pred_proba)\n",
    "roc_auc = auc(fpr, tpr)\n",
    "\n",
    "plt.figure(figsize=(6,5))\n",
    "plt.plot(fpr, tpr, color='darkorange', lw=2, label=f'ROC curve (area = {roc_auc:.2f})')\n",
    "plt.plot([0, 1], [0, 1], color='navy', lw=2, linestyle='--')\n",
    "plt.xlim([0.0, 1.0])\n",
    "plt.ylim([0.0, 1.05])\n",
    "plt.xlabel(\"False Positive Rate\")\n",
    "plt.ylabel(\"True Positive Rate\")\n",
    "plt.title(\"Receiver Operating Characteristic (ROC) Curve\")\n",
    "plt.legend(loc=\"lower right\")\n",
    "plt.show()\n"
   ]
  },
  {
   "cell_type": "code",
   "execution_count": 25,
   "id": "7d83c787",
   "metadata": {},
   "outputs": [
    {
     "data": {
      "image/png": "[encoded data removed]",
      "text/plain": [
       "<Figure size 800x600 with 1 Axes>"
      ]
     },
     "metadata": {},
     "output_type": "display_data"
    },
    {
     "name": "stdout",
     "output_type": "stream",
     "text": [
      "Feature Importances:\n",
      " hour              0.396137\n",
      "customer_age      0.194970\n",
      "occupation        0.132542\n",
      "is_weekend        0.118401\n",
      "day_of_week       0.117262\n",
      "days_overdue      0.022079\n",
      "num_prev_calls    0.018609\n",
      "dtype: float64\n"
     ]
    }
   ],
   "source": [
    "import pandas as pd\n",
    "\n",
    "feature_importances = pd.Series(model.feature_importances_, index=X_train.columns)\n",
    "feature_importances = feature_importances.sort_values(ascending=False)\n",
    "\n",
    "plt.figure(figsize=(8,6))\n",
    "sns.barplot(x=feature_importances, y=feature_importances.index)\n",
    "plt.title(\"Feature Importance - RandomForest\")\n",
    "plt.xlabel(\"Importance Score\")\n",
    "plt.ylabel(\"Features\")\n",
    "plt.show()\n",
    "\n",
    "print(\"Feature Importances:\\n\", feature_importances)\n"
   ]
  },
  {
   "cell_type": "markdown",
   "id": "59d42868",
   "metadata": {},
   "source": [
    "## predicting the best time to call the customer based on the new customer details"
   ]
  },
  {
   "cell_type": "code",
   "execution_count": 26,
   "id": "1bf21dc1",
   "metadata": {},
   "outputs": [],
   "source": [
    "def predict_best_call_time(customer_data, model, hours_to_test=range(8, 21)):\n",
    "    \"\"\"\n",
    "    Predict the best hour to call a customer.\n",
    "    \n",
    "    Args:\n",
    "        customer_data: dict of customer features (excluding hour)\n",
    "        model: trained model\n",
    "        hours_to_test: hours to test (8 to 20 by default)\n",
    "\n",
    "    Returns:\n",
    "        Tuple(best_hour, best_probability)\n",
    "    \"\"\"\n",
    "    results = []\n",
    "\n",
    "    for hour in hours_to_test:\n",
    "        entry = customer_data.copy()\n",
    "        entry['hour'] = hour\n",
    "        df_entry = pd.DataFrame([entry])[model.feature_names_in_]\n",
    "        prob = model.predict_proba(df_entry)[0][1]\n",
    "        results.append((hour, prob))\n",
    "\n",
    "    best_hour, best_prob = max(results, key=lambda x: x[1])\n",
    "    return best_hour, best_prob\n"
   ]
  },
  {
   "cell_type": "code",
   "execution_count": 27,
   "id": "5236e3cd",
   "metadata": {},
   "outputs": [],
   "source": [
    "new_customers = [\n",
    "    {\n",
    "        'day_of_week': 4, 'is_weekend': 1, 'days_overdue': 12,\n",
    "        'num_prev_calls': 5, 'occupation': 2, 'customer_age': 58\n",
    "    },\n",
    "    {\n",
    "        'day_of_week': 3, 'is_weekend': 0, 'days_overdue': 0,\n",
    "        'num_prev_calls': 0, 'occupation': 5, 'customer_age': 45\n",
    "    },\n",
    "    {\n",
    "        'day_of_week': 6, 'is_weekend': 1, 'days_overdue': 5,\n",
    "        'num_prev_calls': 3, 'occupation': 1, 'customer_age': 32\n",
    "    },\n",
    "    {\n",
    "        'day_of_week': 1, 'is_weekend': 0, 'days_overdue': 10,\n",
    "        'num_prev_calls': 5, 'occupation': 0, 'customer_age': 52\n",
    "    }\n",
    "]\n"
   ]
  },
  {
   "cell_type": "code",
   "execution_count": 28,
   "id": "a174ad4b",
   "metadata": {},
   "outputs": [
    {
     "name": "stdout",
     "output_type": "stream",
     "text": [
      "🧑 Customer 1: Best time to call = 17:00, Probability = 97.55%\n",
      "🧑 Customer 2: Best time to call = 16:00, Probability = 86.50%\n",
      "🧑 Customer 3: Best time to call = 9:00, Probability = 97.92%\n",
      "🧑 Customer 4: Best time to call = 12:00, Probability = 97.92%\n"
     ]
    }
   ],
   "source": [
    "for i, customer in enumerate(new_customers, 1):\n",
    "    best_hour, best_prob = predict_best_call_time(customer, model)\n",
    "    print(f\"🧑 Customer {i}: Best time to call = {best_hour}:00, Probability = {best_prob*100:.2f}%\")\n"
   ]
  },
  {
   "cell_type": "code",
   "execution_count": null,
   "id": "aaf4a813",
   "metadata": {},
   "outputs": [
    {
     "name": "stdout",
     "output_type": "stream",
     "text": [
      "Model saved as 'random_forest_model.pkl'\n"
     ]
    }
   ],
   "source": [
    "import joblib\n",
    "# Save the trained model to a .pkl file\n",
    "joblib.dump(model, 'random_forest_model.pkl')\n",
    "print(\"Model saved as 'random_forest_model.pkl'\")"
   ]
  },
  {
   "cell_type": "code",
   "execution_count": 30,
   "id": "eaefa23a",
   "metadata": {},
   "outputs": [
    {
     "name": "stdout",
     "output_type": "stream",
     "text": [
      "d:\\DATA\\DOC\\6th june\\.venv\\Scripts\\python.exe\n",
      "C:\\Users\\419376\\AppData\\Local\\Programs\\Python\\Python310\\python.exe\n",
      "C:\\Users\\419376\\AppData\\Local\\Microsoft\\WindowsApps\\python.exe\n"
     ]
    }
   ],
   "source": [
    "!where python"
   ]
  },
  {
   "cell_type": "code",
   "execution_count": 31,
   "id": "9a58d4b2",
   "metadata": {},
   "outputs": [
    {
     "name": "stderr",
     "output_type": "stream",
     "text": [
      "d:\\DATA\\DOC\\6th june\\.venv\\lib\\site-packages\\tqdm\\auto.py:21: TqdmWarning: IProgress not found. Please update jupyter and ipywidgets. See https://ipywidgets.readthedocs.io/en/stable/user_install.html\n",
      "  from .autonotebook import tqdm as notebook_tqdm\n"
     ]
    },
    {
     "name": "stdout",
     "output_type": "stream",
     "text": [
      "['albert', 'align', 'altclip', 'aria', 'aria_text', 'audio-spectrogram-transformer', 'autoformer', 'aya_vision', 'bamba', 'bark', 'bart', 'beit', 'bert', 'bert-generation', 'big_bird', 'bigbird_pegasus', 'biogpt', 'bit', 'bitnet', 'blenderbot', 'blenderbot-small', 'blip', 'blip-2', 'blip_2_qformer', 'bloom', 'bridgetower', 'bros', 'camembert', 'canine', 'chameleon', 'chinese_clip', 'chinese_clip_vision_model', 'clap', 'clip', 'clip_text_model', 'clip_vision_model', 'clipseg', 'clvp', 'code_llama', 'codegen', 'cohere', 'cohere2', 'colpali', 'conditional_detr', 'convbert', 'convnext', 'convnextv2', 'cpmant', 'csm', 'ctrl', 'cvt', 'd_fine', 'dab-detr', 'dac', 'data2vec-audio', 'data2vec-text', 'data2vec-vision', 'dbrx', 'deberta', 'deberta-v2', 'decision_transformer', 'deepseek_v3', 'deformable_detr', 'deit', 'depth_anything', 'depth_pro', 'deta', 'detr', 'diffllama', 'dinat', 'dinov2', 'dinov2_with_registers', 'distilbert', 'donut-swin', 'dpr', 'dpt', 'efficientformer', 'efficientnet', 'electra', 'emu3', 'encodec', 'encoder-decoder', 'ernie', 'ernie_m', 'esm', 'falcon', 'falcon_mamba', 'fastspeech2_conformer', 'flaubert', 'flava', 'fnet', 'focalnet', 'fsmt', 'funnel', 'fuyu', 'gemma', 'gemma2', 'gemma3', 'gemma3_text', 'git', 'glm', 'glm4', 'glpn', 'got_ocr2', 'gpt-sw3', 'gpt2', 'gpt_bigcode', 'gpt_neo', 'gpt_neox', 'gpt_neox_japanese', 'gptj', 'gptsan-japanese', 'granite', 'granite_speech', 'granitemoe', 'granitemoehybrid', 'granitemoeshared', 'granitevision', 'graphormer', 'grounding-dino', 'groupvit', 'helium', 'hgnet_v2', 'hiera', 'hubert', 'ibert', 'idefics', 'idefics2', 'idefics3', 'idefics3_vision', 'ijepa', 'imagegpt', 'informer', 'instructblip', 'instructblipvideo', 'internvl', 'internvl_vision', 'jamba', 'janus', 'jetmoe', 'jukebox', 'kosmos-2', 'layoutlm', 'layoutlmv2', 'layoutlmv3', 'led', 'levit', 'lilt', 'llama', 'llama4', 'llama4_text', 'llava', 'llava_next', 'llava_next_video', 'llava_onevision', 'longformer', 'longt5', 'luke', 'lxmert', 'm2m_100', 'mamba', 'mamba2', 'marian', 'markuplm', 'mask2former', 'maskformer', 'maskformer-swin', 'mbart', 'mctct', 'mega', 'megatron-bert', 'mgp-str', 'mimi', 'mistral', 'mistral3', 'mixtral', 'mlcd', 'mllama', 'mobilebert', 'mobilenet_v1', 'mobilenet_v2', 'mobilevit', 'mobilevitv2', 'modernbert', 'moonshine', 'moshi', 'mpnet', 'mpt', 'mra', 'mt5', 'musicgen', 'musicgen_melody', 'mvp', 'nat', 'nemotron', 'nezha', 'nllb-moe', 'nougat', 'nystromformer', 'olmo', 'olmo2', 'olmoe', 'omdet-turbo', 'oneformer', 'open-llama', 'openai-gpt', 'opt', 'owlv2', 'owlvit', 'paligemma', 'patchtsmixer', 'patchtst', 'pegasus', 'pegasus_x', 'perceiver', 'persimmon', 'phi', 'phi3', 'phi4_multimodal', 'phimoe', 'pix2struct', 'pixtral', 'plbart', 'poolformer', 'pop2piano', 'prompt_depth_anything', 'prophetnet', 'pvt', 'pvt_v2', 'qdqbert', 'qwen2', 'qwen2_5_omni', 'qwen2_5_vl', 'qwen2_5_vl_text', 'qwen2_audio', 'qwen2_audio_encoder', 'qwen2_moe', 'qwen2_vl', 'qwen2_vl_text', 'qwen3', 'qwen3_moe', 'rag', 'realm', 'recurrent_gemma', 'reformer', 'regnet', 'rembert', 'resnet', 'retribert', 'roberta', 'roberta-prelayernorm', 'roc_bert', 'roformer', 'rt_detr', 'rt_detr_resnet', 'rt_detr_v2', 'rwkv', 'sam', 'sam_hq', 'sam_hq_vision_model', 'sam_vision_model', 'seamless_m4t', 'seamless_m4t_v2', 'segformer', 'seggpt', 'sew', 'sew-d', 'shieldgemma2', 'siglip', 'siglip2', 'siglip_vision_model', 'smolvlm', 'smolvlm_vision', 'speech-encoder-decoder', 'speech_to_text', 'speech_to_text_2', 'speecht5', 'splinter', 'squeezebert', 'stablelm', 'starcoder2', 'superglue', 'superpoint', 'swiftformer', 'swin', 'swin2sr', 'swinv2', 'switch_transformers', 't5', 'table-transformer', 'tapas', 'textnet', 'time_series_transformer', 'timesfm', 'timesformer', 'timm_backbone', 'timm_wrapper', 'trajectory_transformer', 'transfo-xl', 'trocr', 'tvlt', 'tvp', 'udop', 'umt5', 'unispeech', 'unispeech-sat', 'univnet', 'upernet', 'van', 'video_llava', 'videomae', 'vilt', 'vipllava', 'vision-encoder-decoder', 'vision-text-dual-encoder', 'visual_bert', 'vit', 'vit_hybrid', 'vit_mae', 'vit_msn', 'vitdet', 'vitmatte', 'vitpose', 'vitpose_backbone', 'vits', 'vivit', 'wav2vec2', 'wav2vec2-bert', 'wav2vec2-conformer', 'wavlm', 'whisper', 'xclip', 'xglm', 'xlm', 'xlm-prophetnet', 'xlm-roberta', 'xlm-roberta-xl', 'xlnet', 'xmod', 'yolos', 'yoso', 'zamba', 'zamba2', 'zoedepth']\n"
     ]
    }
   ],
   "source": [
    "from transformers.models.auto.configuration_auto import CONFIG_MAPPING\n",
    "print(CONFIG_MAPPING.keys())"
   ]
  },
  {
   "cell_type": "code",
   "execution_count": 33,
   "id": "b733182b",
   "metadata": {},
   "outputs": [],
   "source": [
    "from transformers import AutoModelForCausalLM, AutoTokenizer\n",
    "\n",
    "model_id = \"microsoft/phi-1_5\"\n",
    "tokenizer = AutoTokenizer.from_pretrained(model_id)\n",
    "model = AutoModelForCausalLM.from_pretrained(model_id, trust_remote_code=True)"
   ]
  },
  {
   "cell_type": "code",
   "execution_count": 32,
   "id": "4867c74d",
   "metadata": {},
   "outputs": [
    {
     "name": "stderr",
     "output_type": "stream",
     "text": [
      "d:\\DATA\\DOC\\6th june\\.venv\\lib\\site-packages\\huggingface_hub\\file_download.py:143: UserWarning: `huggingface_hub` cache-system uses symlinks by default to efficiently store duplicated files but your machine does not support them in C:\\Users\\419376\\.cache\\huggingface\\hub\\models--microsoft--phi-1_5. Caching files will still work but in a degraded version that might require more space on your disk. This warning can be disabled by setting the `HF_HUB_DISABLE_SYMLINKS_WARNING` environment variable. For more details, see https://huggingface.co/docs/huggingface_hub/how-to-cache#limitations.\n",
      "To support symlinks on Windows, you either need to activate Developer Mode or to run Python as an administrator. In order to activate developer mode, see this article: https://docs.microsoft.com/en-us/windows/apps/get-started/enable-your-device-for-development\n",
      "  warnings.warn(message)\n"
     ]
    }
   ],
   "source": [
    "from transformers import AutoTokenizer, AutoModelForCausalLM\n",
    "\n",
    "tokenizer = AutoTokenizer.from_pretrained(\"microsoft/phi-1_5\")\n",
    "model = AutoModelForCausalLM.from_pretrained(\"microsoft/phi-1_5\")"
   ]
  },
  {
   "cell_type": "code",
   "execution_count": null,
   "id": "48c08eaf",
   "metadata": {},
   "outputs": [],
   "source": [
    "from transformers import AutoModelForCausalLM, AutoTokenizer\n",
    "\n",
    "model_name = \"microsoft/phi-1_5\"  # Official Hugging Face ID\n",
    "tokenizer = AutoTokenizer.from_pretrained(model_name, trust_remote_code=True)\n",
    "model = AutoModelForCausalLM.from_pretrained(model_name, trust_remote_code=True)"
   ]
  },
  {
   "cell_type": "code",
   "execution_count": 9,
   "id": "e3144097",
   "metadata": {},
   "outputs": [
    {
     "name": "stdout",
     "output_type": "stream",
     "text": [
      "✅ LaMini-T5 model loaded\n"
     ]
    },
    {
     "name": "stderr",
     "output_type": "stream",
     "text": [
      "d:\\DATA\\DOC\\6th june\\.venv\\lib\\site-packages\\huggingface_hub\\file_download.py:143: UserWarning: `huggingface_hub` cache-system uses symlinks by default to efficiently store duplicated files but your machine does not support them in C:\\Users\\419376\\.cache\\huggingface\\hub\\models--MBZUAI--LaMini-T5-738M. Caching files will still work but in a degraded version that might require more space on your disk. This warning can be disabled by setting the `HF_HUB_DISABLE_SYMLINKS_WARNING` environment variable. For more details, see https://huggingface.co/docs/huggingface_hub/how-to-cache#limitations.\n",
      "To support symlinks on Windows, you either need to activate Developer Mode or to run Python as an administrator. In order to activate developer mode, see this article: https://docs.microsoft.com/en-us/windows/apps/get-started/enable-your-device-for-development\n",
      "  warnings.warn(message)\n"
     ]
    }
   ],
   "source": [
    "from transformers import AutoTokenizer, AutoModelForSeq2SeqLM\n",
    "\n",
    "def load_lamini_model():\n",
    "    model_id = \"MBZUAI/LaMini-T5-738M\"\n",
    "    tokenizer = AutoTokenizer.from_pretrained(model_id)\n",
    "    model = AutoModelForSeq2SeqLM.from_pretrained(model_id)\n",
    "    return tokenizer, model\n",
    "\n",
    "tokenizer, lamini_model = load_lamini_model()\n",
    "print(\"✅ LaMini-T5 model loaded\")\n"
   ]
  },
  {
   "cell_type": "code",
   "execution_count": null,
   "id": "d041f263",
   "metadata": {},
   "outputs": [],
   "source": [
    "# import pandas as pd\n",
    "# import numpy as np\n",
    "\n",
    "# # Generate synthetic input data\n",
    "# np.random.seed(42)\n",
    "# num_rows = 20\n",
    "\n",
    "# data = {\n",
    "#     \"customer_id\": [f\"CUST{1000+i}\" for i in range(num_rows)],\n",
    "#     \"day_of_week\": np.random.randint(0, 7, num_rows),\n",
    "#     \"is_weekend\": np.random.randint(0, 2, num_rows),\n",
    "#     \"month\": np.random.randint(1, 13, num_rows),\n",
    "#     \"time_since_last_call\": np.round(np.random.uniform(1, 30, num_rows), 1),\n",
    "#     \"customer_age\": np.random.randint(22, 65, num_rows),\n",
    "#     \"occupation\": np.random.choice([\"Daily wage\", \"Private job\", \"Farmer\", \"Unemployed\", \"Small business\"], num_rows),\n",
    "#     \"city\": np.random.choice([\"Metro\", \"Tier-2\", \"Tier-3\"], num_rows),\n",
    "#     \"gender\": np.random.choice([\"Male\", \"Female\"], num_rows),\n",
    "#     \"loan_amount\": np.round(np.random.uniform(10000, 50000, num_rows), 2),\n",
    "#     \"days_overdue\": np.random.randint(1, 90, num_rows),\n",
    "#     \"payment_history\": np.random.choice([\"Good\", \"Irregular\", \"Poor\"], num_rows),\n",
    "#     \"last_call_outcome\": np.random.choice([\"Answered\", \"Missed\", \"Busy\", \"Switched off\"], num_rows),\n",
    "#     \"num_prev_calls\": np.random.randint(1, 10, num_rows),\n",
    "#     \"time_since_last_answered_call\": np.round(np.random.uniform(1, 45, num_rows), 1)\n",
    "# }\n",
    "\n",
    "# df = pd.DataFrame(data)\n",
    "# df.to_excel(\"sample_input_for_streamlit.xlsx\", index=False)\n"
   ]
  },
  {
   "cell_type": "code",
   "execution_count": 2,
   "id": "3571da18",
   "metadata": {},
   "outputs": [
    {
     "name": "stdout",
     "output_type": "stream",
     "text": [
      "✅ File saved: sample_input_for_streamlit.xlsx\n"
     ]
    }
   ],
   "source": [
    "import pandas as pd\n",
    "import numpy as np\n",
    "\n",
    "# Set seed for reproducibility\n",
    "np.random.seed(42)\n",
    "\n",
    "# Number of sample customers\n",
    "num_samples = 20\n",
    "\n",
    "# Generate synthetic customer data\n",
    "data = {\n",
    "    \"customer_id\": [f\"CUST{100000 + i}\" for i in range(num_samples)],\n",
    "    \"day_of_week\": np.random.randint(0, 7, size=num_samples),\n",
    "    \"is_weekend\": np.random.choice([0, 1], size=num_samples),\n",
    "    \"month\": np.random.randint(1, 13, size=num_samples),\n",
    "    \"time_since_last_call\": np.round(np.random.uniform(0.5, 96, size=num_samples), 2),\n",
    "    \"customer_age\": np.random.randint(22, 65, size=num_samples),\n",
    "    \"occupation\": np.random.choice([\"Unemployed\", \"Daily wage\", \"Homemaker\", \"Private job\", \"Farmer\", \"Small business\"], size=num_samples),\n",
    "    \"city\": np.random.choice([\"Metro\", \"Tier-2\", \"Tier-3\"], size=num_samples),\n",
    "    \"gender\": np.random.choice([\"Male\", \"Female\", \"Other\"], size=num_samples),\n",
    "    \"loan_amount\": np.round(np.random.uniform(10000, 150000, size=num_samples), 2),\n",
    "    \"days_overdue\": np.random.randint(1, 91, size=num_samples),\n",
    "    \"payment_history\": np.round(np.random.uniform(0.0, 4.0, size=num_samples), 1),\n",
    "    \"last_call_outcome\": np.random.choice([\"Answered\", \"Busy\", \"Not Answered\", \"Voicemail\"], size=num_samples),\n",
    "    \"num_prev_calls\": np.random.randint(1, 11, size=num_samples),\n",
    "    \"time_since_last_answered_call\": np.round(np.random.uniform(0.1, 72, size=num_samples), 2)\n",
    "}\n",
    "\n",
    "# Create DataFrame\n",
    "input_df = pd.DataFrame(data)\n",
    "\n",
    "# Save to Excel\n",
    "input_df.to_excel(\"sample_input_for_streamlit.xlsx\", index=False)\n",
    "print(\"✅ File saved: sample_input_for_streamlit.xlsx\")\n"
   ]
  },
  {
   "cell_type": "code",
   "execution_count": null,
   "id": "76ee61e2",
   "metadata": {},
   "outputs": [],
   "source": []
  }
 ],
 "metadata": {
  "kernelspec": {
   "display_name": ".venv",
   "language": "python",
   "name": "python3"
  },
  "language_info": {
   "codemirror_mode": {
    "name": "ipython",
    "version": 3
   },
   "file_extension": ".py",
   "mimetype": "text/x-python",
   "name": "python",
   "nbconvert_exporter": "python",
   "pygments_lexer": "ipython3",
   "version": "3.10.11"
  }
 },
 "nbformat": 4,
 "nbformat_minor": 5
}
